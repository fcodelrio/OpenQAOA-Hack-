{
 "cells": [
  {
   "cell_type": "markdown",
   "metadata": {},
   "source": [
    "## Problem\n",
    "\n",
    "In OpenQAOA there are several problems that are implemented in order to perform the Ising model, in this example we will address a specific case of  the [Knapsack problem](https://en.wikipedia.org/wiki/Knapsack_problem). The knapsack problem asks us to find a combination of items such that the total weight is within the capacity of the knapsack and maximize the total value of the items.\n",
    "\n",
    "### Classical Method\n",
    "\n",
    "The knapsack problem has a set of items  $N^{\\prime}=\\{1, \\ldots, N\\}$, consisting of $N$ items, the $j$-th with profit $p_{j}$ and weight $w_{j}$, and the capacity value $W$. Then, the objective is to select a subset of $N^{\\prime}$ such that the total profit of the selected items is maximized and the total weight does not exceed $W$.\n",
    "$$\n",
    "\\begin{aligned}\n",
    "\\operatorname{maximizar} & \\sum_{j=1}^{N} p_{j} x_{j} \\\\\n",
    "\\text { sujeto a } & \\sum_{j=1}^{N} w_{j} x_{j} \\leq W \\\\\n",
    "& x_{j} \\in\\{0,1\\}, \\quad j=1, \\ldots, N\n",
    "\\end{aligned}\n",
    "$$\n",
    "Let us denote the optimal solution vector by $x^{*}=\\left(x_{i}, \\ldots, x_{N}\\right)$ .\n",
    "\n",
    "<div class=\"alert alert-block alert-warning\"> \n",
    "\n",
    "Example consider ** 4 items, where the weights are {3, 4, 6, 5}, the values are {2, 3, 1, 4}, and the  weight_capacity is 8, **, try to find the best combination\n",
    "\n",
    "</div>\n",
    "\n",
    "This is possible to solve using dynamic programming and one good tool is using a matrix, you can see for this example the oslution in the above Table, where columns represent the weight(8),and the rows represent the profits and weights of items. \n",
    "\n",
    "\n",
    "<table  style=\"width:100%;color: white;\">\n",
    "    <thead >\n",
    "        <tr style=\" background-color: #2f3974;\">\n",
    "            <th>Item </th>\n",
    "            <th>0</th>\n",
    "            <th>1</th>\n",
    "            <th>2</th>\n",
    "            <th>3</th>\n",
    "            <th>4</th>\n",
    "            <th>5</th>\n",
    "            <th>6</th>\n",
    "            <th>7</th>\n",
    "            <th>8</th>\n",
    "        </tr>\n",
    "    </thead>\n",
    "    <tbody>\n",
    "        <tr style=\" background-color: #3a6486;\">\n",
    "            <td>0</td>\n",
    "            <td>0</td>\n",
    "            <td>0</td>\n",
    "            <td>0</td>\n",
    "            <td>0</td>\n",
    "            <td>0</td>\n",
    "            <td>0</td>\n",
    "            <td>0</td>\n",
    "            <td>0</td>\n",
    "            <td>0</td>\n",
    "        </tr>\n",
    "        <tr style=\" background-color: #3a6486;\">\n",
    "            <td>1</td>\n",
    "            <td>0</td>\n",
    "            <td>0</td>\n",
    "            <td>0</td>\n",
    "            <td>2</td>\n",
    "            <td>2</td>\n",
    "            <td>2</td>\n",
    "            <td>2</td>\n",
    "            <td>2</td>\n",
    "            <td>2</td>\n",
    "        </tr>\n",
    "        <tr style=\" background-color: #3a6486;\">\n",
    "            <td>2</td>\n",
    "            <td>0</td>\n",
    "            <td>0</td>\n",
    "            <td>0</td>\n",
    "            <td>2</td>\n",
    "            <td>3</td>\n",
    "            <td>3</td>\n",
    "            <td>3</td>\n",
    "            <td>5</td>\n",
    "            <td>5</td>\n",
    "        </tr>\n",
    "        <tr style=\" background-color: #3a6486;\">\n",
    "            <td>3</td>\n",
    "            <td>0</td>\n",
    "            <td>0</td>\n",
    "            <td>0</td>\n",
    "            <td>2</td>\n",
    "            <td>3</td>\n",
    "            <td>3</td>\n",
    "            <td>3</td>\n",
    "            <td>5</td>\n",
    "            <td>5</td>\n",
    "        </tr>\n",
    "        <tr style=\" background-color: #3a6486;\">\n",
    "            <td>4</td>\n",
    "            <td>0</td>\n",
    "            <td>0</td>\n",
    "            <td>0</td>\n",
    "            <td>2</td>\n",
    "            <td>3</td>\n",
    "            <td>3</td>\n",
    "            <td>4</td>\n",
    "            <td>5</td>\n",
    "            <td style=\" background-color: #4fbeae;\">5</td>\n",
    "        </tr>\n",
    "    </tbody>\n",
    " </table>\n",
    "\n",
    "<center>Table 1. Solution for the knapsack Problem's example</center>\n",
    "\n",
    "\n",
    "Table 1 shows that  of the $ 2^4 =  16$ combination the best combination is the state `1100`"
   ]
  },
  {
   "cell_type": "markdown",
   "metadata": {},
   "source": [
    "### Design  the problem\n",
    "\n",
    "The necessary dependencies to build the problem have to be initialized, in order to display the graphs of the results and the necessary OpenQAOA objects and methods to generate the quantum algorithm."
   ]
  },
  {
   "cell_type": "code",
   "execution_count": 1,
   "metadata": {},
   "outputs": [],
   "source": [
    "# Methods to use in the  notebook\n",
    "%load_ext autoreload\n",
    "%autoreload 2\n",
    "from IPython.display import clear_output\n",
    "\n",
    "# Libaries to manipulate, print, plot, and save the data.\n",
    "import matplotlib.pyplot as plt\n",
    "import numpy as np\n",
    "\n",
    "# Random generator for the problem\n",
    "from random import seed,randrange, randint\n",
    "\n",
    "# OpenQAOA libraries to design, execute the algorithm in different backends and optimisers\n",
    "from openqaoa.problems.problem import Knapsack\n",
    "from openqaoa.workflows.optimizer import QAOA \n",
    "from openqaoa.devices import create_device\n",
    "from openqaoa.optimizers.qaoa_optimizer import available_optimizers\n",
    "from openqaoa.utilities import ground_state_hamiltonian\n",
    "# Import the method to plot the graph \n",
    "from openqaoa.utilities import plot_graph"
   ]
  },
  {
   "cell_type": "markdown",
   "metadata": {},
   "source": [
    "Using the method random we can generate a random list of four elements, from which the Partition problem is to be implemented."
   ]
  },
  {
   "cell_type": "code",
   "execution_count": 2,
   "metadata": {},
   "outputs": [
    {
     "name": "stdout",
     "output_type": "stream",
     "text": [
      "[6 9 6] [1 1 2] 10 1.0\n"
     ]
    }
   ],
   "source": [
    "np.random.seed(1)\n",
    "num_items = 3 # number of items\n",
    "weight_capacity = 10 # max weight of a bin\n",
    "penalty = 1.0\n",
    "\n",
    "values = np.random.randint(1, weight_capacity, num_items)\n",
    "weights = np.random.randint(1, weight_capacity, num_items)\n",
    "\n",
    "print(values,weights,weight_capacity,penalty)"
   ]
  },
  {
   "cell_type": "markdown",
   "metadata": {},
   "source": [
    "####  Number Partition problem to QAOA\n",
    "\n",
    "In order to work the problem you want to design you must convert it to Quadratic Unconstrained Binary Optimization (QUBO) format. That is possible using the Class *NumberPartitio*, where this has one parameter, an integer list, one object of this class has the method `get_pubo_problem()`, that translates the problem into a QUBO problem."
   ]
  },
  {
   "cell_type": "code",
   "execution_count": 3,
   "metadata": {},
   "outputs": [
    {
     "data": {
      "text/plain": [
       "{'terms': [[0, 1],\n",
       "  [0, 2],\n",
       "  [0, 3],\n",
       "  [1, 2],\n",
       "  [1, 3],\n",
       "  [2, 3],\n",
       "  [4, 5],\n",
       "  [4, 6],\n",
       "  [5, 6],\n",
       "  [0, 4],\n",
       "  [0, 5],\n",
       "  [0, 6],\n",
       "  [1, 4],\n",
       "  [1, 5],\n",
       "  [1, 6],\n",
       "  [2, 4],\n",
       "  [2, 5],\n",
       "  [2, 6],\n",
       "  [3, 4],\n",
       "  [3, 5],\n",
       "  [3, 6],\n",
       "  [0],\n",
       "  [1],\n",
       "  [2],\n",
       "  [3],\n",
       "  [4],\n",
       "  [5],\n",
       "  [6]],\n",
       " 'weights': [1.0,\n",
       "  2.0,\n",
       "  4.0,\n",
       "  4.0,\n",
       "  8.0,\n",
       "  16.0,\n",
       "  0.5,\n",
       "  1.0,\n",
       "  1.0,\n",
       "  0.5,\n",
       "  0.5,\n",
       "  1.0,\n",
       "  1.0,\n",
       "  1.0,\n",
       "  2.0,\n",
       "  2.0,\n",
       "  2.0,\n",
       "  4.0,\n",
       "  4.0,\n",
       "  4.0,\n",
       "  8.0,\n",
       "  0.5,\n",
       "  1.0,\n",
       "  2.0,\n",
       "  4.0,\n",
       "  3.5,\n",
       "  5.0,\n",
       "  4.0],\n",
       " 'constant': 12.5,\n",
       " 'n': 7}"
      ]
     },
     "execution_count": 3,
     "metadata": {},
     "output_type": "execute_result"
    }
   ],
   "source": [
    "qubo = Knapsack(values, weights, weight_capacity,penalty).get_qubo_problem()\n",
    "qubo.asdict()"
   ]
  },
  {
   "cell_type": "markdown",
   "metadata": {},
   "source": [
    "Implement the QAOA quantum algorithm  from the OpenQAOA implementation"
   ]
  },
  {
   "cell_type": "code",
   "execution_count": 4,
   "metadata": {},
   "outputs": [],
   "source": [
    "# In OpenQAOA you can use different devices either local \n",
    "# or from different cloud backends such as Qiskit, Pyquil.\n",
    "sim = create_device(location='local', name='vectorized')\n",
    "\n",
    "# Init the object QAOA and certain of its properties can be modified\n",
    "q = QAOA()\n",
    "q.set_device(sim)\n",
    "q.compile(qubo) \n",
    "\n",
    "# Execute the quantum algorithm\n",
    "q.optimize()"
   ]
  },
  {
   "cell_type": "markdown",
   "metadata": {},
   "source": [
    "#### Results\n",
    "\n",
    "You can print different things from the QAOA object in the section `q.results` as:\n",
    "\n",
    "and check the `solutions_bitstrings` and the exactly answer with `ground_state_hamiltonian`"
   ]
  },
  {
   "cell_type": "code",
   "execution_count": 5,
   "metadata": {},
   "outputs": [
    {
     "name": "stdout",
     "output_type": "stream",
     "text": [
      "solution bitstring:  ['0010111']\n",
      "ground state:  ['0110111']\n"
     ]
    }
   ],
   "source": [
    "print(\"solution bitstring: \",q.results.most_probable_states['solutions_bitstrings'])\n",
    "print(\"ground state: \",ground_state_hamiltonian(q.cost_hamil)[1])"
   ]
  },
  {
   "cell_type": "markdown",
   "metadata": {},
   "source": [
    "### Try your\n",
    "\n",
    "Consider the procces from the previous example we analize different results using all the optimizers that OpenQAOA support, this divide in *'scipy'* and *'custom_scipy_gradient'*, as:"
   ]
  },
  {
   "cell_type": "code",
   "execution_count": 6,
   "metadata": {},
   "outputs": [
    {
     "data": {
      "text/plain": [
       "['nelder-mead',\n",
       " 'powell',\n",
       " 'cg',\n",
       " 'bfgs',\n",
       " 'newton-cg',\n",
       " 'l-bfgs-b',\n",
       " 'tnc',\n",
       " 'cobyla',\n",
       " 'slsqp',\n",
       " 'trust-constr',\n",
       " 'dogleg',\n",
       " 'trust-ncg',\n",
       " 'trust-exact',\n",
       " 'trust-krylov',\n",
       " 'vgd',\n",
       " 'newton',\n",
       " 'rmsprop',\n",
       " 'natural_grad_descent',\n",
       " 'spsa']"
      ]
     },
     "execution_count": 6,
     "metadata": {},
     "output_type": "execute_result"
    }
   ],
   "source": [
    "optimisers = available_optimizers()['scipy']+ available_optimizers()['custom_scipy_gradient']\n",
    "optimisers"
   ]
  },
  {
   "cell_type": "markdown",
   "metadata": {},
   "source": [
    "Using 19 optimisers, for all those you can choose the method to compute the Jacobian and Hessian, for Jacobian you can consider all the  methods and Hessian only *finite_difference*.\n",
    "\n",
    "Define the Jacobian list:"
   ]
  },
  {
   "cell_type": "code",
   "execution_count": 7,
   "metadata": {},
   "outputs": [],
   "source": [
    "jac = ['finite_difference', 'param_shift','grad_spsa', 'stoch_param_shift']"
   ]
  },
  {
   "cell_type": "markdown",
   "metadata": {},
   "source": [
    "Define the Hessian value:"
   ]
  },
  {
   "cell_type": "code",
   "execution_count": 8,
   "metadata": {},
   "outputs": [],
   "source": [
    "hess = jac[0]"
   ]
  }
 ],
 "metadata": {
  "interpreter": {
   "hash": "94ba8e6cdac9dde82f659e119264b9029c842e44dd4dc6168fe45af36f6b571d"
  },
  "kernelspec": {
   "display_name": "entropica",
   "language": "python",
   "name": "entropicalabs"
  },
  "language_info": {
   "codemirror_mode": {
    "name": "ipython",
    "version": 3
   },
   "file_extension": ".py",
   "mimetype": "text/x-python",
   "name": "python",
   "nbconvert_exporter": "python",
   "pygments_lexer": "ipython3",
   "version": "3.8.8"
  }
 },
 "nbformat": 4,
 "nbformat_minor": 4
}
