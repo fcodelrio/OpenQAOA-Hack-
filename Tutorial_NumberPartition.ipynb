{
 "cells": [
  {
   "cell_type": "markdown",
   "metadata": {},
   "source": [
    "## Problem\n",
    "\n",
    "In OpenQAOA there are several problems that are implemented in order to perform the Ising model, in this example we will address a specific case of  the [Partition problem](https://en.wikipedia.org/wiki/Partition_problem), this problem is to determine whether a given set can be partitioned into two subsets such that the sum of elements in both subsets is the same. \n",
    "\n",
    "### Classical Method\n",
    "\n",
    "The classical idea to solve this problem following the next steps:\n",
    "\n",
    "- Calculate sum of the array. If sum is odd, there can not be two subsets with equal sum, so return false. \n",
    "- If sum of array elements is even, calculate sum/2 and find a subset of array with sum equal to sum/2. \n",
    "\n",
    "<div class=\"alert alert-block alert-warning\"> \n",
    "\n",
    "For the input in this example we can obtain for the first step that the sum of **[4, 3, 3, 2]** is  *12*, therefore this step is correct. \n",
    "\n",
    "For step two, we have the following subsets:\n",
    "\n",
    "</div>\n",
    "\n",
    "\n",
    "<table  style=\"width:100%;color: white;\">\n",
    "    <thead >\n",
    "        <tr style=\" background-color: #2f3974;\">\n",
    "            <th>Case </th>\n",
    "            <th> $s_1$</th>\n",
    "            <th> $s_2$</th>\n",
    "            <th> $\\sum(s_1)$</th>\n",
    "            <th> $\\sum(s_2)$</th>\n",
    "            <th> Output states</th>\n",
    "        </tr>\n",
    "    </thead>\n",
    "    <tbody>\n",
    "        <tr style=\" background-color: #3a6486;\">\n",
    "            <td>1</td>\n",
    "            <td>[4,3,3,2]</td>\n",
    "            <td>[]</td>\n",
    "            <td>12</td>\n",
    "            <td>0</td>\n",
    "            <td>[[1,1,1,1],[0,0,0,0]]</td>\n",
    "        </tr>\n",
    "        <tr style=\" background-color: #3a6486;\">\n",
    "            <td>2</td>\n",
    "            <td>[4,3,3]</td>\n",
    "            <td>[2]</td>\n",
    "            <td>10</td>\n",
    "            <td>2</td>\n",
    "            <td>[[1,1,1,0],[0,0,0,1]]</td>\n",
    "        </tr>\n",
    "        <tr style=\" background-color: #3a6486;\"> \n",
    "            <td>3</td>\n",
    "            <td>[4,3]</td>\n",
    "            <td>[3,2]</td>\n",
    "            <td>7</td>\n",
    "            <td>5</td>\n",
    "            <td>[[1,1,0,0],[0,0,1,1]],[[1,0,1,0],[0,1,0,1]]</td>\n",
    "        </tr>\n",
    "        <tr style=\" background-color: #4fbeae;\">\n",
    "            <td>4</td>\n",
    "            <td>[3,3]</td>\n",
    "            <td>[4,2]</td>\n",
    "            <td>6</td>\n",
    "            <td>6</td>\n",
    "            <td>[[0,1,1,0],[1,0,0,1]]</td>\n",
    "        </tr>\n",
    "    </tbody>\n",
    " </table>\n",
    "\n",
    "<center>Table 1. Description step 2 of classical solution</center>\n",
    "\n",
    "\n",
    "Figure 1 shows that the case 4 fulfills two subsets with the value in the middle and therefore it is possible to perform the answer considering the partition of the indices 0 and 3, as well as the indices 2 and 3."
   ]
  },
  {
   "cell_type": "markdown",
   "metadata": {},
   "source": [
    "### Design  the problem\n",
    "\n",
    "The necessary dependencies to build the problem have to be initialized, in order to display the graphs of the results and the necessary OpenQAOA objects and methods to generate the quantum algorithm."
   ]
  },
  {
   "cell_type": "code",
   "execution_count": 1,
   "metadata": {},
   "outputs": [],
   "source": [
    "# Methods to use in the  notebook\n",
    "%load_ext autoreload\n",
    "%autoreload 2\n",
    "from IPython.display import clear_output\n",
    "\n",
    "# Libaries to manipulate, print, plot, and save the data.\n",
    "import matplotlib.pyplot as plt\n",
    "import numpy as np\n",
    "import pandas as pd\n",
    "\n",
    "# Random generator for the problem\n",
    "from random import seed,randrange, randint\n",
    "\n",
    "# OpenQAOA libraries to design, execute the algorithm in different backends and optimisers\n",
    "from openqaoa.problems.problem import NumberPartition\n",
    "from openqaoa.workflows.optimizer import QAOA \n",
    "from openqaoa.devices import create_device\n",
    "from openqaoa.optimizers.qaoa_optimizer import available_optimizers\n",
    "from openqaoa.utilities import ground_state_hamiltonian"
   ]
  },
  {
   "cell_type": "markdown",
   "metadata": {},
   "source": [
    "Using the method random we can generate a random list of four elements, from which the Partition problem is to be implemented."
   ]
  },
  {
   "cell_type": "code",
   "execution_count": 2,
   "metadata": {},
   "outputs": [
    {
     "data": {
      "text/plain": [
       "[4, 3, 3, 2]"
      ]
     },
     "execution_count": 2,
     "metadata": {},
     "output_type": "execute_result"
    }
   ],
   "source": [
    "# To reproduce the code and make this a problem that has optimal states in the bipartition problem,\n",
    "# the following seed is used\n",
    "seed(9)\n",
    "\n",
    "# Generate four random number with a range between (1,5) callend the variable in_list\n",
    "in_list = [randrange(1, 5, 1) for i in range(4)]\n",
    "in_list"
   ]
  },
  {
   "cell_type": "markdown",
   "metadata": {},
   "source": [
    "####  Number Partition problem to QAOA\n",
    "\n",
    "In order to work the problem you want to design you must convert it to Quadratic Unconstrained Binary Optimization (QUBO) format. That is possible using the Class *NumberPartition*, where this has one parameter, an integer list, one object of this class has the method `get_pubo_problem()`, that translates the problem into a QUBO problem."
   ]
  },
  {
   "cell_type": "code",
   "execution_count": 3,
   "metadata": {},
   "outputs": [
    {
     "data": {
      "text/plain": [
       "{'terms': [[0, 1], [0, 2], [0, 3], [1, 2], [1, 3], [2, 3]],\n",
       " 'weights': [24.0, 24.0, 16.0, 18.0, 12.0, 12.0],\n",
       " 'constant': 38,\n",
       " '_n': 4}"
      ]
     },
     "execution_count": 3,
     "metadata": {},
     "output_type": "execute_result"
    }
   ],
   "source": [
    "qubo = NumberPartition(in_list).get_qubo_problem()\n",
    "qubo.asdict()"
   ]
  },
  {
   "cell_type": "markdown",
   "metadata": {},
   "source": [
    "Implement the QAOA quantum algorithm  from the OpenQAOA implementation"
   ]
  },
  {
   "cell_type": "code",
   "execution_count": 4,
   "metadata": {},
   "outputs": [],
   "source": [
    "# In OpenQAOA you can use different devices either local \n",
    "# or from different cloud backends such as Qiskit, Pyquil.\n",
    "sim = create_device(location='local', name='vectorized')\n",
    "\n",
    "# Init the object QAOA and certain of its properties can be modified\n",
    "q = QAOA()\n",
    "q.set_device(sim)\n",
    "q.compile(qubo) \n",
    "\n",
    "# Execute the quantum algorithm\n",
    "q.optimize()"
   ]
  },
  {
   "cell_type": "markdown",
   "metadata": {},
   "source": [
    "#### Results\n",
    "\n",
    "You can print different things from the QAOA object in the section `q.results` as:\n",
    "\n",
    "and check the `solutions_bitstrings` and the exactly answer with `ground_state_hamiltonian`"
   ]
  },
  {
   "cell_type": "code",
   "execution_count": 5,
   "metadata": {},
   "outputs": [
    {
     "name": "stdout",
     "output_type": "stream",
     "text": [
      "solution bitstring:  ['0110', '1001']\n",
      "ground state:  ['0110', '1001']\n"
     ]
    }
   ],
   "source": [
    "print(\"solution bitstring: \",q.results.most_probable_states['solutions_bitstrings'])\n",
    "print(\"ground state: \",ground_state_hamiltonian(q.cost_hamil)[1])"
   ]
  },
  {
   "cell_type": "markdown",
   "metadata": {},
   "source": [
    "### Try it yourself\n",
    "\n",
    "Consider the procces from the previous example we analize different results using all the optimizers that OpenQAOA support, this divide in *'scipy'* and *'custom_scipy_gradient'*, as:"
   ]
  },
  {
   "cell_type": "code",
   "execution_count": 6,
   "metadata": {},
   "outputs": [
    {
     "data": {
      "text/plain": [
       "['nelder-mead',\n",
       " 'powell',\n",
       " 'cg',\n",
       " 'bfgs',\n",
       " 'newton-cg',\n",
       " 'l-bfgs-b',\n",
       " 'tnc',\n",
       " 'cobyla',\n",
       " 'slsqp',\n",
       " 'trust-constr',\n",
       " 'dogleg',\n",
       " 'trust-ncg',\n",
       " 'trust-exact',\n",
       " 'trust-krylov',\n",
       " 'vgd',\n",
       " 'newton',\n",
       " 'rmsprop',\n",
       " 'natural_grad_descent',\n",
       " 'spsa']"
      ]
     },
     "execution_count": 6,
     "metadata": {},
     "output_type": "execute_result"
    }
   ],
   "source": [
    "optimisers = available_optimizers()['scipy']+ available_optimizers()['custom_scipy_gradient']\n",
    "optimisers"
   ]
  },
  {
   "cell_type": "markdown",
   "metadata": {},
   "source": [
    "Using 19 optimisers, for all those you can choose the method to compute the Jacobian and Hessian, for Jacobian you can consider all the  methods and Hessian only *finite_difference*.\n",
    "\n",
    "Define the Jacobian list:"
   ]
  },
  {
   "cell_type": "code",
   "execution_count": 7,
   "metadata": {},
   "outputs": [],
   "source": [
    "jac = ['finite_difference', 'param_shift','grad_spsa', 'stoch_param_shift']"
   ]
  },
  {
   "cell_type": "markdown",
   "metadata": {},
   "source": [
    "Define the Hessian value:"
   ]
  },
  {
   "cell_type": "code",
   "execution_count": 8,
   "metadata": {},
   "outputs": [],
   "source": [
    "hess = jac[0]"
   ]
  }
 ],
 "metadata": {
  "interpreter": {
   "hash": "94ba8e6cdac9dde82f659e119264b9029c842e44dd4dc6168fe45af36f6b571d"
  },
  "kernelspec": {
   "display_name": "Python 3 (ipykernel)",
   "language": "python",
   "name": "python3"
  },
  "language_info": {
   "codemirror_mode": {
    "name": "ipython",
    "version": 3
   },
   "file_extension": ".py",
   "mimetype": "text/x-python",
   "name": "python",
   "nbconvert_exporter": "python",
   "pygments_lexer": "ipython3",
   "version": "3.8.8"
  }
 },
 "nbformat": 4,
 "nbformat_minor": 4
}
